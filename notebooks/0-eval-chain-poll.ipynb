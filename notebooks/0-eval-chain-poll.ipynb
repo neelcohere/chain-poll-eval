{
 "cells": [
  {
   "cell_type": "markdown",
   "metadata": {},
   "source": [
    "# Galileo - Chain Pool Eval"
   ]
  },
  {
   "cell_type": "markdown",
   "metadata": {},
   "source": [
    "### Imports"
   ]
  },
  {
   "cell_type": "code",
   "execution_count": 1,
   "metadata": {},
   "outputs": [
    {
     "name": "stderr",
     "output_type": "stream",
     "text": [
      "/Users/neel/Library/Caches/pypoetry/virtualenvs/src-mZjtLG-j-py3.11/lib/python3.11/site-packages/pydantic/_internal/_config.py:341: UserWarning: Valid config keys have changed in V2:\n",
      "* 'allow_population_by_field_name' has been renamed to 'populate_by_name'\n",
      "* 'smart_union' has been removed\n",
      "  warnings.warn(message, UserWarning)\n"
     ]
    },
    {
     "data": {
      "text/plain": [
       "True"
      ]
     },
     "execution_count": 1,
     "metadata": {},
     "output_type": "execute_result"
    }
   ],
   "source": [
    "import os\n",
    "import cohere\n",
    "import json\n",
    "\n",
    "from dotenv import load_dotenv\n",
    "load_dotenv()\n"
   ]
  },
  {
   "cell_type": "markdown",
   "metadata": {},
   "source": [
    "### System Preamble and Prompt Setup"
   ]
  },
  {
   "cell_type": "code",
   "execution_count": 2,
   "metadata": {},
   "outputs": [],
   "source": [
    "# preamble, context, task and question setup\n",
    "PREAMBLE = \\\n",
    "\"\"\"\n",
    "You are Coral, a brilliant, sophisticated, AI-assistant chatbot trained to assist human users by providing thorough responses. You are powered by Command, a large language model built by the company Cohere. Today's date is Thursday, April 25, 2024.\n",
    "\"\"\"\n",
    "CONTEXT = \\\n",
    "\"\"\"\n",
    "- \"Kings and Queens\" is Killing Joke's third single from their fifth studio album, \"Night Time\". It was originally released by E.G. Records on 21 March 1985 as a 12\" and 7\" single in the UK, and a 7\" single by Polydor in the Netherlands. It was produced by Chris Kimsey. The 12\" single featured \"Kings and Queens (A Right Royal Mix)\" as an A-side, and both \"The Madding Crowd (Remixed by Killing Joke)\" and \"Kings and Queens\" as B-sides. E.G.'s 7\" single and Polydor's 7\" single exempted \"Kings and Queens (A Right Royal Mix)\" and instead featured \"Kings and Queens\" as the A-side, and \"The Madding Crowd (Remixed by Killing Joke)\" as the B-side. E.G. also released a remix of the song, \"Kings and Queens (Knaves Mix)\", as an A-side and featured the same B-sides as the 12\" single of \"Kings and Queens\".\n",
    "- Acceptance is an American rock band from Seattle, Washington, formed in 1998. They released their first EP, \"Lost for Words\", in 2000, followed by \"Black Lines to Battlefields\" in 2003 (this EP was also re-released with live bonus tracks). Their debut album, \"Phantoms\", was released in 2005.\n",
    "- Killing Joke is the eleventh studio album by English rock band Killing Joke, released on 28 July 2003 by record label Zuma Recordings.\n",
    "- Killing Joke are an English rock band formed in October 1978 in Notting Hill, London, England. The original line-up included Jaz Coleman (vocals, keyboards), Paul Ferguson (drums), Geordie Walker (guitars) and Youth (bass).\n",
    "- Paul Ferguson (born Matthew Paul Ferguson, 31 March 1958) is a rock drummer, best known for his work in the post-punk/industrial group Killing Joke and cult English punk band Pink Parts. Following a stint as the drummer with the London-based Matt Stagger Band in 1978, Ferguson became a founding member of Killing Joke and served as their drummer from 1979 to 1987. He was known as 'Big Paul Ferguson' during this period.\n",
    "- \"A New Day\" is a non-album single by Killing Joke. It was released by E.G. Records in July 1984 as a 12\" and 7\" single. The 12\" single featured a dub mix of \"A New Day\" as the A-side and \"A New Day\" as the B-side. The 7\" single featured a shorter version of \"A New Day\" as the A-side and \"Dance Day\" as the B-side. A completely different version of \"A New Day\", which was not a mix, later appeared on the 2008 reissue of Killing Joke's fifth studio album, \"Night Time\". The single reached No. 51 in the UK Singles Chart. A promotional video was filmed for the song, marking the first time the band had made a video for a non-album single.\n",
    "- Batman: The Killing Joke is a 1988 DC Comics one-shot graphic novel featuring the characters Batman and the Joker written by Alan Moore and illustrated by Brian Bolland. \"The Killing Joke\" provides an origin story for the supervillain the Joker, loosely adapted from the 1951 story arc \"The Man Behind the Red Hood!\". Taking place over two timelines, \"The Killing Joke\" depicts the Joker attempting to drive Jim Gordon insane and Batman's desperate attempt to stop him.\n",
    "- Killing Joke is the debut studio album by English rock band Killing Joke. It was released in August 1980 by record label E.G.\n",
    "- Pandemonium is the ninth studio album by English rock band Killing Joke, released on 2 August 1994 by record label Butterfly. This album marked Killing Joke's return after a four-year-long hiatus, the longest the band has taken since it was initially founded. This album also featured the return of founding member Youth, who replaced Paul Raven on bass.\n",
    "- \"Ha\" or \"Ha\": Killing Joke Live is the first commercially distributed live recording by English rock band Killing Joke. It was recorded at Larry's Hideaway in Toronto, Ontario, Canada on 9 and 10 August 1982, and released on 4 November by record label Virgin.\n",
    "\"\"\"\n",
    "TASK = \\\n",
    "\"\"\"\n",
    "Answer the question using the information in the context.\n",
    "\"\"\"\n",
    "QUESTION = \\\n",
    "\"\"\"\n",
    "Which band was formed first Killing Joke or Acceptance ?\n",
    "\"\"\"\n"
   ]
  },
  {
   "cell_type": "code",
   "execution_count": 3,
   "metadata": {},
   "outputs": [],
   "source": [
    "# combining context, task and question into 1 prompt\n",
    "PROMPT_TEMPLATE = \\\n",
    "\"\"\"\n",
    "{preamble}\n",
    "Context:\n",
    "{context}\n",
    "\n",
    "Task:\n",
    "{task}\n",
    "Question:\n",
    "{question}\n",
    "Answer:\n",
    "\"\"\"\n"
   ]
  },
  {
   "cell_type": "code",
   "execution_count": 4,
   "metadata": {},
   "outputs": [],
   "source": [
    "# chain poll eval prompt\n",
    "CP_PROMPT = \\\n",
    "\"\"\"\n",
    "You are an LLM Evaluator tasked with judging whether the provided Response is relevant to the provided Context to ensure that there is no hallucination and that the response adheres to the context provided.\n",
    "\n",
    "## Context\n",
    "{context}\n",
    "\n",
    "## Response\n",
    "{response}\n",
    "\n",
    "## Task\n",
    "Produce 5 judgements that compare the relevance of the context to the response. For each judgement, think step-by-step and provide verbose, detailed reasoning to explain you judged the relevance. Also include your final judgement, either a Yes if the judegment is that the Response is relevant to the Context, or No if not relevant.\n",
    "\n",
    "\"\"\"\n",
    "\n",
    "CP_FORMAT = \\\n",
    "\"\"\"## Format\n",
    "Format your responses in a json of 5 judegment items like the example below:\n",
    "{\n",
    "    items: {\n",
    "        [\n",
    "                {\n",
    "                    reasoning: reasoning for judgement 1\n",
    "                    judgement: Yes or No\n",
    "                },\n",
    "                {\n",
    "                    reasoning: reasoning for judgement 2\n",
    "                    judgement: Yes or No\n",
    "                },\n",
    "                {\n",
    "                    reasoning: reasoning for judgement 3\n",
    "                    judgement: Yes or No\n",
    "                },\n",
    "                {\n",
    "                    reasoning: reasoning for judgement 4\n",
    "                    judgement: Yes or No\n",
    "                },\n",
    "                {\n",
    "                    reasoning: reasoning for judgement 5\n",
    "                    judgement: Yes or No\n",
    "                }\n",
    "        ]\n",
    "    }\n",
    "}\"\"\"\n",
    "\n"
   ]
  },
  {
   "cell_type": "markdown",
   "metadata": {},
   "source": [
    "### Setting up Cohere API"
   ]
  },
  {
   "cell_type": "code",
   "execution_count": 5,
   "metadata": {},
   "outputs": [],
   "source": [
    "co = cohere.Client(\n",
    "    api_key=os.getenv(\"COHERE_API_KEY\"),\n",
    "    log_warning_experimental_features=False,\n",
    ")\n",
    "# combine prompt template sections\n",
    "generation_prompt = PROMPT_TEMPLATE.format(\n",
    "    preamble=PREAMBLE,\n",
    "    context=CONTEXT,\n",
    "    task=TASK,\n",
    "    question=QUESTION,\n",
    ")\n",
    "\n",
    "generation_params = {\n",
    "    \"model\": \"command-r-plus\",\n",
    "    \"message\": generation_prompt,\n",
    "    \"temperature\": 0.3,\n",
    "}\n",
    "\n",
    "response = co.chat(\n",
    "    message=generation_prompt,\n",
    ").text\n"
   ]
  },
  {
   "cell_type": "code",
   "execution_count": 6,
   "metadata": {},
   "outputs": [
    {
     "data": {
      "text/plain": [
       "'Killing Joke was formed first, in October 1978. Acceptance was formed later, in 1998.'"
      ]
     },
     "execution_count": 6,
     "metadata": {},
     "output_type": "execute_result"
    }
   ],
   "source": [
    "response\n"
   ]
  },
  {
   "cell_type": "markdown",
   "metadata": {},
   "source": [
    "### Running Chain Poll Eval"
   ]
  },
  {
   "cell_type": "code",
   "execution_count": 7,
   "metadata": {},
   "outputs": [],
   "source": [
    "# setup chain pool prompt with json format guidance\n",
    "cp_prompt = CP_PROMPT.format(\n",
    "    context=CONTEXT,\n",
    "    response=response\n",
    ") + CP_FORMAT\n"
   ]
  },
  {
   "cell_type": "code",
   "execution_count": 8,
   "metadata": {},
   "outputs": [],
   "source": [
    "# define a structued output format\n",
    "RESPONSE_FORMAT = {\n",
    "    \"type\": \"json_object\",\n",
    "    \"schema\": {\n",
    "        \"type\": \"object\",\n",
    "        \"required\": [\n",
    "            \"items\"\n",
    "        ],\n",
    "        \"properties\": {\n",
    "            \"items\": {\n",
    "                \"type\": \"array\",\n",
    "                \"items\": {\n",
    "                    \"type\": \"object\",\n",
    "                    \"required\": [\n",
    "                        \"judgement\",\n",
    "                        \"reasoning\"\n",
    "                    ],\n",
    "                    \"properties\": {\n",
    "                        \"judgement\": {\n",
    "                            \"type\": \"string\"\n",
    "                        },\n",
    "                        \"reasoning\": {\n",
    "                            \"type\": \"string\"\n",
    "                        }\n",
    "                    }\n",
    "                }\n",
    "            }\n",
    "        }\n",
    "    }\n",
    "}\n",
    "\n",
    "# generate 5 judgements\n",
    "judgement_params = {\n",
    "    \"model\": \"command-r-plus\",\n",
    "    \"message\": cp_prompt,\n",
    "    \"response_format\": RESPONSE_FORMAT,\n",
    "}\n",
    "judgement_response = json.loads(\n",
    "    co.chat(\n",
    "        **judgement_params\n",
    "    ).text\n",
    ")\n"
   ]
  },
  {
   "cell_type": "code",
   "execution_count": 9,
   "metadata": {},
   "outputs": [
    {
     "name": "stdout",
     "output_type": "stream",
     "text": [
      "{'judgement': 'Yes',\n",
      " 'reasoning': 'The response directly addresses the comparison of formation '\n",
      "              'dates between Killing Joke and Acceptance, which is mentioned '\n",
      "              \"in the context. Killing Joke's formation date of 1978 and \"\n",
      "              \"Acceptance's formation in 1998 are both explicitly stated in \"\n",
      "              'the context, allowing the response to accurately conclude that '\n",
      "              'Killing Joke was formed first.'}\n",
      "--------------------\n",
      "{'judgement': 'Yes',\n",
      " 'reasoning': 'The context provides a detailed overview of both Killing Joke '\n",
      "              'and Acceptance, including their formation dates, musical '\n",
      "              \"origins, and notable releases. Killing Joke's history is \"\n",
      "              'extensively covered, with mentions of their various studio '\n",
      "              'albums, live recordings, and even a graphic novel featuring '\n",
      "              \"Batman and the Joker. Acceptance's formation in Seattle, \"\n",
      "              'Washington, in 1998, is also clearly stated, along with their '\n",
      "              'early EPs and debut album release in 2005. The response '\n",
      "              \"accurately extracts the relevant information about the bands' \"\n",
      "              'formation timelines from this context.'}\n",
      "--------------------\n",
      "{'judgement': 'Yes',\n",
      " 'reasoning': 'The response is concise and directly addresses the comparison '\n",
      "              'of formation dates, which is a specific and relevant piece of '\n",
      "              'information within the context. There is no irrelevant or '\n",
      "              'extraneous detail included in the response, indicating that it '\n",
      "              'is focused and adheres closely to the context provided.'}\n",
      "--------------------\n",
      "{'judgement': 'Yes',\n",
      " 'reasoning': \"The context provides a chronological account of Killing Joke's \"\n",
      "              \"and Acceptance's histories, making the comparison of their \"\n",
      "              'formation dates straightforward and relevant. The response '\n",
      "              'reflects this chronological structure by presenting the '\n",
      "              'formation dates in a clear, sequential manner.'}\n",
      "--------------------\n",
      "{'judgement': 'Yes',\n",
      " 'reasoning': 'The response is supported by specific details from the context, '\n",
      "              'including the formation dates of both bands. The context '\n",
      "              \"mentions Killing Joke's formation in 1978 and Acceptance's \"\n",
      "              'formation in 1998, allowing the response to accurately conclude '\n",
      "              'that Killing Joke was formed first.'}\n",
      "--------------------\n"
     ]
    }
   ],
   "source": [
    "from pprint import pprint\n",
    "for item in judgement_response['items']:\n",
    "    pprint(item)\n",
    "    print(\"-\" * 20)\n"
   ]
  },
  {
   "cell_type": "markdown",
   "metadata": {},
   "source": [
    "### Chain Poll Score"
   ]
  },
  {
   "cell_type": "code",
   "execution_count": 10,
   "metadata": {},
   "outputs": [],
   "source": [
    "# track yes judgements and total judgements\n",
    "TOTAL_RECORDS = 5\n",
    "yes_records = len([item for item in judgement_response['items'] if item[\"judgement\"].lower() == \"yes\"])\n",
    "\n",
    "# calcualate chain poll score\n",
    "chain_poll_score = yes_records / TOTAL_RECORDS\n"
   ]
  },
  {
   "cell_type": "code",
   "execution_count": 12,
   "metadata": {},
   "outputs": [
    {
     "name": "stdout",
     "output_type": "stream",
     "text": [
      "Chain Poll Score (%): 100.00%\n"
     ]
    }
   ],
   "source": [
    "print(f\"Chain Poll Score (%): {chain_poll_score:.2%}\")"
   ]
  },
  {
   "cell_type": "code",
   "execution_count": null,
   "metadata": {},
   "outputs": [],
   "source": []
  }
 ],
 "metadata": {
  "kernelspec": {
   "display_name": "src-mZjtLG-j-py3.11",
   "language": "python",
   "name": "python3"
  },
  "language_info": {
   "codemirror_mode": {
    "name": "ipython",
    "version": 3
   },
   "file_extension": ".py",
   "mimetype": "text/x-python",
   "name": "python",
   "nbconvert_exporter": "python",
   "pygments_lexer": "ipython3",
   "version": "3.11.9"
  }
 },
 "nbformat": 4,
 "nbformat_minor": 2
}
