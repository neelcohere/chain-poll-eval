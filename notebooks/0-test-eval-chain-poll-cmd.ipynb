{
 "cells": [
  {
   "cell_type": "markdown",
   "metadata": {},
   "source": [
    "# Galileo - Chain Pool Eval"
   ]
  },
  {
   "cell_type": "markdown",
   "metadata": {},
   "source": [
    "### Imports"
   ]
  },
  {
   "cell_type": "code",
   "execution_count": 2,
   "metadata": {},
   "outputs": [
    {
     "name": "stderr",
     "output_type": "stream",
     "text": [
      "/Users/neel/Library/Caches/pypoetry/virtualenvs/src-mZjtLG-j-py3.11/lib/python3.11/site-packages/pydantic/_internal/_config.py:341: UserWarning: Valid config keys have changed in V2:\n",
      "* 'allow_population_by_field_name' has been renamed to 'populate_by_name'\n",
      "* 'smart_union' has been removed\n",
      "  warnings.warn(message, UserWarning)\n"
     ]
    },
    {
     "data": {
      "text/plain": [
       "True"
      ]
     },
     "execution_count": 2,
     "metadata": {},
     "output_type": "execute_result"
    }
   ],
   "source": [
    "import os\n",
    "import sys\n",
    "import cohere\n",
    "import json\n",
    "\n",
    "from dotenv import load_dotenv\n",
    "load_dotenv(dotenv_path=\"../.env\")"
   ]
  },
  {
   "cell_type": "markdown",
   "metadata": {},
   "source": [
    "### System Preamble and Prompt Setup"
   ]
  },
  {
   "cell_type": "code",
   "execution_count": 3,
   "metadata": {},
   "outputs": [],
   "source": [
    "docs = [\n",
    "    \"'Kings and Queens' is Killing Joke's third single from their fifth studio album, 'Night Time'. It was originally released by E.G. Records on 21 March 1985 as a 12' and 7' single in the UK, and a 7' single by Polydor in the Netherlands. It was produced by Chris Kimsey. The 12' single featured 'Kings and Queens (A Right Royal Mix)' as an A-side, and both 'The Madding Crowd (Remixed by Killing Joke)' and 'Kings and Queens' as B-sides. E.G.'s 7' single and Polydor's 7' single exempted 'Kings and Queens (A Right Royal Mix)' and instead featured 'Kings and Queens' as the A-side, and 'The Madding Crowd (Remixed by Killing Joke)' as the B-side. E.G. also released a remix of the song, 'Kings and Queens (Knaves Mix)', as an A-side and featured the same B-sides as the 12' single of 'Kings and Queens'\",\n",
    "    \"Acceptance is an American rock band from Seattle, Washington, formed in 1998. They released their first EP, 'Lost for Words', in 2000, followed by 'Black Lines to Battlefields' in 2003 (this EP was also re-released with live bonus tracks). Their debut album, 'Phantoms', was released in 2005.\",\n",
    "    \"Killing Joke is the eleventh studio album by English rock band Killing Joke, released on 28 July 2003 by record label Zuma Recordings.\",\n",
    "    \"Killing Joke are an English rock band formed in October 1978 in Notting Hill, London, England. The original line-up included Jaz Coleman (vocals, keyboards), Paul Ferguson (drums), Geordie Walker (guitars) and Youth (bass).\",\n",
    "    \"Paul Ferguson (born Matthew Paul Ferguson, 31 March 1958) is a rock drummer, best known for his work in the post-punk/industrial group Killing Joke and cult English punk band Pink Parts. Following a stint as the drummer with the London-based Matt Stagger Band in 1978, Ferguson became a founding member of Killing Joke and served as their drummer from 1979 to 1987. He was known as 'Big Paul Ferguson' during this period.\",\n",
    "    \"'A New Day' is a non-album single by Killing Joke. It was released by E.G. Records in July 1984 as a 12' and 7' single. The 12' single featured a dub mix of 'A New Day' as the A-side and 'A New Day' as the B-side. The 7' single featured a shorter version of 'A New Day' as the A-side and 'Dance Day' as the B-side. A completely different version of 'A New Day', which was not a mix, later appeared on the 2008 reissue of Killing Joke's fifth studio album, 'Night Time'. The single reached No. 51 in the UK Singles Chart. A promotional video was filmed for the song, marking the first time the band had made a video for a non-album single.\",\n",
    "    \"Batman: The Killing Joke is a 1988 DC Comics one-shot graphic novel featuring the characters Batman and the Joker written by Alan Moore and illustrated by Brian Bolland. 'The Killing Joke' provides an origin story for the supervillain the Joker, loosely adapted from the 1951 story arc 'The Man Behind the Red Hood!'. Taking place over two timelines, 'The Killing Joke' depicts the Joker attempting to drive Jim Gordon insane and Batman's desperate attempt to stop him.\",\n",
    "    \"Killing Joke is the debut studio album by English rock band Killing Joke. It was released in August 1980 by record label E.G.\",\n",
    "    \"Pandemonium is the ninth studio album by English rock band Killing Joke, released on 2 August 1994 by record label Butterfly. This album marked Killing Joke's return after a four-year-long hiatus, the longest the band has taken since it was initially founded. This album also featured the return of founding member Youth, who replaced Paul Raven on bass.\",\n",
    "    \"'Ha' or 'Ha': Killing Joke Live is the first commercially distributed live recording by English rock band Killing Joke. It was recorded at Larry's Hideaway in Toronto, Ontario, Canada on 9 and 10 August 1982, and released on 4 November by record label Virgin.\",\n",
    "]\n",
    "\n",
    "CONTEXT = \"\"\n",
    "for i, doc in enumerate(docs):\n",
    "    CONTEXT += f\"Document {i + 1}: {doc}\\n\"\n"
   ]
  },
  {
   "cell_type": "code",
   "execution_count": 4,
   "metadata": {},
   "outputs": [],
   "source": [
    "# preamble, task and question setup\n",
    "PREAMBLE = \\\n",
    "\"\"\"\n",
    "You are Coral, a brilliant, sophisticated, AI-assistant chatbot trained to assist human users by providing thorough responses. You are powered by Command, a large language model built by the company Cohere. Today's date is Thursday, April 25, 2024.\n",
    "\"\"\"\n",
    "TASK = \\\n",
    "\"\"\"\n",
    "Answer the question using the information in the context.\n",
    "\"\"\"\n",
    "QUESTION = \\\n",
    "\"\"\"\n",
    "Which band was formed first Killing Joke or Acceptance ?\n",
    "\"\"\"\n",
    "\n"
   ]
  },
  {
   "cell_type": "code",
   "execution_count": 5,
   "metadata": {},
   "outputs": [],
   "source": [
    "# combining context, task and question into 1 prompt\n",
    "PROMPT_TEMPLATE = \\\n",
    "\"\"\"\n",
    "{preamble}\n",
    "Context:\n",
    "{context}\n",
    "\n",
    "Task:\n",
    "{task}\n",
    "Question:\n",
    "{question}\n",
    "Answer:\n",
    "\"\"\"\n"
   ]
  },
  {
   "cell_type": "code",
   "execution_count": 6,
   "metadata": {},
   "outputs": [],
   "source": [
    "# chain poll eval prompt\n",
    "CP_PROMPT = \\\n",
    "\"\"\"\n",
    "You are an LLM Evaluator tasked with judging whether the provided Response is relevant to Document the provided Context to ensure that there is no hallucination and that the response adheres to the context provided.\n",
    "\n",
    "## Context\n",
    "{context}\n",
    "\n",
    "## Response\n",
    "{response}\n",
    "\n",
    "## Task\n",
    "Produce a judgement that compare the relevance of the context to the response. For each judgement:\n",
    "- Compare the Response to EACH of the document from the Context individually to evaluate if the claim made by the Response is fully supported by EACH document.\n",
    "- Summarize all the comparisons to provide your reasoning if the Response is hallucinated or not\n",
    "- Include your final judgement, either a 1 if the judegment is that the Response is relevant to the Context and therefore has not hallucinated, or 0 if not relevant.\n",
    "\n",
    "\"\"\"\n",
    "\n",
    "CP_FORMAT = \\\n",
    "\"\"\"\n",
    "## Format\n",
    "Format your responses in a json like the example below:\n",
    "{\n",
    "    reasoning: summarized reasoning for this judgement by individually evaluating the relevance of the Response against EACH documents in Context\n",
    "    judgement: 1 if the reasoning indicates that the Response is relevant to and supported by the Context or else 0\n",
    "}\n",
    "\n",
    "Think step-by-step and provide verbose, detailed reasoning to explain you judged the relevance. \n",
    "\"\"\"\n",
    "\n"
   ]
  },
  {
   "cell_type": "markdown",
   "metadata": {},
   "source": [
    "### Setting up Cohere API"
   ]
  },
  {
   "cell_type": "code",
   "execution_count": 7,
   "metadata": {},
   "outputs": [],
   "source": [
    "co = cohere.Client(\n",
    "    api_key=os.getenv(\"COHERE_API_KEY\"),\n",
    "    log_warning_experimental_features=False,\n",
    ")\n",
    "# combine prompt template sections\n",
    "generation_prompt = PROMPT_TEMPLATE.format(\n",
    "    preamble=PREAMBLE,\n",
    "    context=CONTEXT,\n",
    "    task=TASK,\n",
    "    question=QUESTION,\n",
    ")\n",
    "generation_params = {\n",
    "    \"model\": \"command-r-plus\",\n",
    "    \"message\": generation_prompt,\n",
    "    \"temperature\": 0.3,\n",
    "    \"documents\": [{\"text\": doc} for doc in docs]\n",
    "}\n",
    "response = co.chat(\n",
    "    **generation_params,\n",
    ").text\n"
   ]
  },
  {
   "cell_type": "code",
   "execution_count": 8,
   "metadata": {},
   "outputs": [
    {
     "data": {
      "text/plain": [
       "'Killing Joke was formed in 1978, while Acceptance was formed in 1998. Therefore, Killing Joke was formed first.'"
      ]
     },
     "execution_count": 8,
     "metadata": {},
     "output_type": "execute_result"
    }
   ],
   "source": [
    "response\n"
   ]
  },
  {
   "cell_type": "markdown",
   "metadata": {},
   "source": [
    "### Running Chain Poll Eval"
   ]
  },
  {
   "cell_type": "code",
   "execution_count": 134,
   "metadata": {},
   "outputs": [],
   "source": [
    "# setup chain pool prompt with json format guidance\n",
    "cp_prompt = CP_PROMPT.format(\n",
    "    context=CONTEXT,\n",
    "    response=response\n",
    ") + CP_FORMAT\n"
   ]
  },
  {
   "cell_type": "code",
   "execution_count": 136,
   "metadata": {},
   "outputs": [],
   "source": [
    "# define a structued output format\n",
    "RESPONSE_FORMAT = {\n",
    "    \"type\": \"json_object\",\n",
    "    \"schema\": {\n",
    "        \"type\": \"object\",\n",
    "        \"required\": [\"reasoning\", \"judgement\"],\n",
    "        \"properties\": {\n",
    "            \"reasoning\": { \"type\": \"string\" },\n",
    "            \"judgement\": { \"type\": \"integer\" }\n",
    "        }\n",
    "    }\n",
    "}\n",
    "# generate 5 judgements\n",
    "judgements = []\n",
    "judgement_params = {\n",
    "    \"model\": \"command-r-plus\",\n",
    "    \"message\": cp_prompt,\n",
    "    \"response_format\": RESPONSE_FORMAT,\n",
    "    \"temperature\": 0.3\n",
    "}\n",
    "for _ in range(5):\n",
    "    judgements.append(json.loads(\n",
    "        co.chat(\n",
    "            **judgement_params\n",
    "        ).text\n",
    "    ))\n"
   ]
  },
  {
   "cell_type": "code",
   "execution_count": 137,
   "metadata": {},
   "outputs": [
    {
     "name": "stdout",
     "output_type": "stream",
     "text": [
      "{'judgement': 1,\n",
      " 'reasoning': \"Document 1 mentions Killing Joke's third single from their \"\n",
      "              'fifth studio album but does not mention when the band was '\n",
      "              'formed. Document 2 mentions Acceptance, an American rock band '\n",
      "              'formed in 1998, and their releases from 2000 to 2005. Document '\n",
      "              \"3 mentions Killing Joke's eleventh studio album released in \"\n",
      "              \"2003 but does not include the band's formation year. Document 4 \"\n",
      "              'clearly states that Killing Joke was formed in 1978, supporting '\n",
      "              \"the Response's claim. Document 5 provides background on Killing \"\n",
      "              \"Joke's drummer, Paul Ferguson, and mentions the band's \"\n",
      "              'formation in 1979, which is close to the claimed year. Document '\n",
      "              \"6 discusses Killing Joke's single 'A New Day' without providing \"\n",
      "              \"insight into the band's formation. Document 7 is about a \"\n",
      "              \"graphic novel titled 'Batman: The Killing Joke' and is \"\n",
      "              \"unrelated to the band. Document 8 mentions Killing Joke's debut \"\n",
      "              'album in 1980, which is after their formation. Document 9 '\n",
      "              \"discusses Killing Joke's ninth studio album and a hiatus, but \"\n",
      "              \"the band's formation isn't mentioned. Document 10 is about \"\n",
      "              \"Killing Joke's first live recording but doesn't include the \"\n",
      "              \"band's formation info. In summary, the Response's claim is \"\n",
      "              'directly supported by Document 4, and other documents provide '\n",
      "              \"background on Killing Joke's history, indicating that the \"\n",
      "              'Response is relevant and not hallucinated.'}\n",
      "--------------------\n",
      "{'judgement': 1,\n",
      " 'reasoning': \"Document 1 mentions Killing Joke's third single from their \"\n",
      "              'fifth studio album but does not mention when the band was '\n",
      "              'formed. Document 2 mentions Acceptance, an American rock band '\n",
      "              'formed in 1998, and their releases from 2000 to 2005. Document '\n",
      "              \"3 mentions Killing Joke's eleventh studio album released in \"\n",
      "              \"2003 but does not include the band's formation year. Document 4 \"\n",
      "              'clearly states that Killing Joke was formed in 1978, supporting '\n",
      "              \"the Response's claim. Document 5 provides background on Killing \"\n",
      "              \"Joke's drummer, Paul Ferguson, and mentions the band's \"\n",
      "              'formation in 1979, which is close to the claimed year. Document '\n",
      "              \"6 discusses Killing Joke's single 'A New Day' without providing \"\n",
      "              \"insight into the band's formation. Document 7 is about a \"\n",
      "              \"graphic novel titled 'Batman: The Killing Joke' and is \"\n",
      "              \"unrelated to the band. Document 8 mentions Killing Joke's debut \"\n",
      "              'studio album in 1980, which was after their formation. Document '\n",
      "              \"9 discusses Killing Joke's ninth studio album and their return \"\n",
      "              'after a hiatus but does not specify the year of formation. '\n",
      "              \"Document 10 is about Killing Joke's first live recording but \"\n",
      "              \"does not include the band's formation information. In summary, \"\n",
      "              \"the Response's claim that Killing Joke was formed in 1978 is \"\n",
      "              'supported by Documents 4 and 5, while Document 2 provides the '\n",
      "              'formation year of Acceptance as 1998. The Response is '\n",
      "              'consistent with the information in the provided documents and '\n",
      "              'does not hallucinate.'}\n",
      "--------------------\n",
      "{'judgement': 1,\n",
      " 'reasoning': \"Document 1 mentions Killing Joke's third single from their \"\n",
      "              'fifth studio album but does not mention when the band was '\n",
      "              'formed. Document 2 mentions Acceptance, an American rock band '\n",
      "              'formed in 1998, and their releases from 2000 to 2005. Document '\n",
      "              \"3 mentions Killing Joke's eleventh studio album released in \"\n",
      "              \"2003 but does not include the band's formation year. Document 4 \"\n",
      "              'clearly states that Killing Joke was formed in 1978, supporting '\n",
      "              \"the Response's claim. Document 5 provides background on Killing \"\n",
      "              \"Joke's drummer, Paul Ferguson, and mentions the band's \"\n",
      "              'formation in 1979, which is close to the claimed year. Document '\n",
      "              \"6 discusses Killing Joke's single 'A New Day' without providing \"\n",
      "              \"insight into the band's formation. Document 7 is about a \"\n",
      "              \"graphic novel titled 'Batman: The Killing Joke' and is \"\n",
      "              \"unrelated to the band. Document 8 mentions Killing Joke's debut \"\n",
      "              'studio album in 1980, which is after their formation. Document '\n",
      "              \"9 discusses Killing Joke's ninth studio album and their return \"\n",
      "              \"after a hiatus but does not specify the band's formation year. \"\n",
      "              \"Document 10 is about Killing Joke's first live recording but \"\n",
      "              \"does not include the band's formation information. In summary, \"\n",
      "              \"the Response's claim that Killing Joke was formed in 1978 is \"\n",
      "              'supported by Documents 4 and 5, while Document 2 provides the '\n",
      "              'formation year of Acceptance as 1998. The Response is '\n",
      "              'consistent with the information in the Context.'}\n",
      "--------------------\n",
      "{'judgement': 1,\n",
      " 'reasoning': \"Document 1 mentions Killing Joke's third single from their \"\n",
      "              'fifth studio album but does not mention when the band was '\n",
      "              'formed. Document 2 mentions Acceptance, an American rock band '\n",
      "              'formed in 1998, and their releases from 2000 to 2005. Document '\n",
      "              \"3 mentions Killing Joke's eleventh studio album released in \"\n",
      "              \"2003 but does not include the band's formation year. Document 4 \"\n",
      "              'clearly states that Killing Joke was formed in 1978, supporting '\n",
      "              \"the Response's claim. Document 5 provides background on Killing \"\n",
      "              \"Joke's drummer, Paul Ferguson, and mentions the band's \"\n",
      "              'formation in 1979, which is close to the claimed year. Document '\n",
      "              \"6 discusses Killing Joke's single 'A New Day' without providing \"\n",
      "              \"insight into the band's formation. Document 7 is about a \"\n",
      "              \"graphic novel titled 'Batman: The Killing Joke' and is \"\n",
      "              \"unrelated to the band. Document 8 mentions Killing Joke's debut \"\n",
      "              'album in 1980, which was after their formation. Document 9 '\n",
      "              \"discusses Killing Joke's ninth studio album and a hiatus, but \"\n",
      "              \"the band's formation is not mentioned. Document 10 is about \"\n",
      "              \"Killing Joke's first live recording but does not include the \"\n",
      "              \"band's formation details. In summary, the Response's claim that \"\n",
      "              'Killing Joke was formed in 1978 is supported by Documents 4 and '\n",
      "              '5, while Document 2 confirms that Acceptance was formed in '\n",
      "              '1998. The Response is consistent with the information in the '\n",
      "              'provided documents and does not hallucinate.'}\n",
      "--------------------\n",
      "{'judgement': 1,\n",
      " 'reasoning': \"Document 1 mentions Killing Joke's third single from their \"\n",
      "              'fifth studio album but does not mention when the band was '\n",
      "              'formed. Document 2 mentions Acceptance, an American rock band '\n",
      "              'formed in 1998, and their releases from 2000 to 2005. Document '\n",
      "              \"3 mentions Killing Joke's eleventh studio album released in \"\n",
      "              \"2003 but does not provide the band's formation year. Document 4 \"\n",
      "              'clearly states that Killing Joke was formed in 1978, supporting '\n",
      "              \"the response's claim. Document 5 provides background on Killing \"\n",
      "              \"Joke's drummer, Paul Ferguson, and mentions the band's \"\n",
      "              'formation in 1979, which is close to the claimed year. Document '\n",
      "              \"6 discusses Killing Joke's single 'A New Day' without providing \"\n",
      "              'band formation details. Document 7 is about a graphic novel '\n",
      "              \"titled 'Batman: The Killing Joke' and is unrelated to the band. \"\n",
      "              \"Document 8 mentions Killing Joke's debut album without \"\n",
      "              \"specifying the band's formation year. Document 9 discusses \"\n",
      "              \"Killing Joke's ninth studio album and their return after a \"\n",
      "              \"hiatus but does not provide the band's formation details. \"\n",
      "              \"Document 10 is about Killing Joke's first commercially \"\n",
      "              'distributed live recording. In summary, Documents 1, 3, 6, 8, '\n",
      "              '9, and 10 do not directly provide the formation years of '\n",
      "              'Killing Joke and Acceptance. However, Document 4 clearly states '\n",
      "              \"Killing Joke's formation in 1978, and Document 2 explicitly \"\n",
      "              \"mentions Acceptance's formation in 1998, fully supporting the \"\n",
      "              \"response's claim.\"}\n",
      "--------------------\n"
     ]
    }
   ],
   "source": [
    "from pprint import pprint\n",
    "for item in judgements:\n",
    "    pprint(item)\n",
    "    print(\"-\" * 20)\n"
   ]
  },
  {
   "cell_type": "markdown",
   "metadata": {},
   "source": [
    "### Chain Poll Score"
   ]
  },
  {
   "cell_type": "code",
   "execution_count": 125,
   "metadata": {},
   "outputs": [],
   "source": [
    "# track yes judgements and total judgements\n",
    "TOTAL_RECORDS = 5\n",
    "yes_records = sum(list(item['judgement'] for item in judgements))\n",
    "# calcualate chain poll score\n",
    "chain_poll_score = yes_records / TOTAL_RECORDS\n"
   ]
  },
  {
   "cell_type": "code",
   "execution_count": 126,
   "metadata": {},
   "outputs": [
    {
     "name": "stdout",
     "output_type": "stream",
     "text": [
      "Chain Poll Score (%): 100.00%\n"
     ]
    }
   ],
   "source": [
    "print(f\"Chain Poll Score (%): {chain_poll_score:.2%}\")"
   ]
  },
  {
   "cell_type": "code",
   "execution_count": 76,
   "metadata": {},
   "outputs": [
    {
     "name": "stderr",
     "output_type": "stream",
     "text": [
      "Evaluating: 100%|██████████| 1/1 [00:12<00:00, 12.35s/it]\n"
     ]
    }
   ],
   "source": [
    "from datasets import Dataset\n",
    "from ragas.metrics import faithfulness\n",
    "from ragas import evaluate\n",
    "from langchain_openai import ChatOpenAI\n",
    "\n",
    "api_key = \"\" # <api key>\n",
    "judge = ChatOpenAI(api_key=api_key, model=\"gpt-4o\")\n",
    "data_samples = {\n",
    "    \"question\": [QUESTION],\n",
    "    \"answer\": [response],\n",
    "    \"contexts\": [docs],\n",
    "}\n",
    "dataset = Dataset.from_dict(data_samples)\n",
    "score = evaluate(dataset, llm=judge, metrics=[faithfulness])[\"faithfulness\"]\n"
   ]
  },
  {
   "cell_type": "code",
   "execution_count": 78,
   "metadata": {},
   "outputs": [
    {
     "name": "stdout",
     "output_type": "stream",
     "text": [
      "Ragas Score (%): 100.00%\n"
     ]
    }
   ],
   "source": [
    "print(f\"Ragas Score (%): {score:.2%}\")"
   ]
  },
  {
   "cell_type": "code",
   "execution_count": null,
   "metadata": {},
   "outputs": [],
   "source": []
  }
 ],
 "metadata": {
  "kernelspec": {
   "display_name": "src-mZjtLG-j-py3.11",
   "language": "python",
   "name": "python3"
  },
  "language_info": {
   "codemirror_mode": {
    "name": "ipython",
    "version": 3
   },
   "file_extension": ".py",
   "mimetype": "text/x-python",
   "name": "python",
   "nbconvert_exporter": "python",
   "pygments_lexer": "ipython3",
   "version": "3.11.9"
  }
 },
 "nbformat": 4,
 "nbformat_minor": 2
}
