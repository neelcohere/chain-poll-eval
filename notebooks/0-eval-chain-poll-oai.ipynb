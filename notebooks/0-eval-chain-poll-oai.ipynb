{
 "cells": [
  {
   "cell_type": "markdown",
   "metadata": {},
   "source": [
    "# Galileo - Chain Pool Eval"
   ]
  },
  {
   "cell_type": "markdown",
   "metadata": {},
   "source": [
    "### Imports"
   ]
  },
  {
   "cell_type": "code",
   "execution_count": 1,
   "metadata": {},
   "outputs": [
    {
     "name": "stderr",
     "output_type": "stream",
     "text": [
      "/Users/neel/Library/Caches/pypoetry/virtualenvs/src-mZjtLG-j-py3.11/lib/python3.11/site-packages/pydantic/_internal/_config.py:341: UserWarning: Valid config keys have changed in V2:\n",
      "* 'allow_population_by_field_name' has been renamed to 'populate_by_name'\n",
      "* 'smart_union' has been removed\n",
      "  warnings.warn(message, UserWarning)\n"
     ]
    },
    {
     "data": {
      "text/plain": [
       "True"
      ]
     },
     "execution_count": 1,
     "metadata": {},
     "output_type": "execute_result"
    }
   ],
   "source": [
    "import os\n",
    "import sys\n",
    "import json\n",
    "import cohere\n",
    "\n",
    "from langchain_core.output_parsers import JsonOutputParser\n",
    "from langchain_core.prompts import PromptTemplate\n",
    "from langchain_core.pydantic_v1 import BaseModel, Field\n",
    "from langchain_openai import ChatOpenAI\n",
    "\n",
    "from dotenv import load_dotenv\n",
    "load_dotenv(dotenv_path=\"../.env\")"
   ]
  },
  {
   "cell_type": "markdown",
   "metadata": {},
   "source": [
    "### System Preamble and Prompt Setup"
   ]
  },
  {
   "cell_type": "code",
   "execution_count": 2,
   "metadata": {},
   "outputs": [],
   "source": [
    "docs = [\n",
    "    \"'Kings and Queens' is Killing Joke's third single from their fifth studio album, 'Night Time'. It was originally released by E.G. Records on 21 March 1985 as a 12' and 7' single in the UK, and a 7' single by Polydor in the Netherlands. It was produced by Chris Kimsey. The 12' single featured 'Kings and Queens (A Right Royal Mix)' as an A-side, and both 'The Madding Crowd (Remixed by Killing Joke)' and 'Kings and Queens' as B-sides. E.G.'s 7' single and Polydor's 7' single exempted 'Kings and Queens (A Right Royal Mix)' and instead featured 'Kings and Queens' as the A-side, and 'The Madding Crowd (Remixed by Killing Joke)' as the B-side. E.G. also released a remix of the song, 'Kings and Queens (Knaves Mix)', as an A-side and featured the same B-sides as the 12' single of 'Kings and Queens'\",\n",
    "    \"Acceptance is an American rock band from Seattle, Washington, formed in 1998. They released their first EP, 'Lost for Words', in 2000, followed by 'Black Lines to Battlefields' in 2003 (this EP was also re-released with live bonus tracks). Their debut album, 'Phantoms', was released in 2005.\",\n",
    "    \"Killing Joke is the eleventh studio album by English rock band Killing Joke, released on 28 July 2003 by record label Zuma Recordings.\",\n",
    "    \"Killing Joke are an English rock band formed in October 1978 in Notting Hill, London, England. The original line-up included Jaz Coleman (vocals, keyboards), Paul Ferguson (drums), Geordie Walker (guitars) and Youth (bass).\",\n",
    "    \"Paul Ferguson (born Matthew Paul Ferguson, 31 March 1958) is a rock drummer, best known for his work in the post-punk/industrial group Killing Joke and cult English punk band Pink Parts. Following a stint as the drummer with the London-based Matt Stagger Band in 1978, Ferguson became a founding member of Killing Joke and served as their drummer from 1979 to 1987. He was known as 'Big Paul Ferguson' during this period.\",\n",
    "    \"'A New Day' is a non-album single by Killing Joke. It was released by E.G. Records in July 1984 as a 12' and 7' single. The 12' single featured a dub mix of 'A New Day' as the A-side and 'A New Day' as the B-side. The 7' single featured a shorter version of 'A New Day' as the A-side and 'Dance Day' as the B-side. A completely different version of 'A New Day', which was not a mix, later appeared on the 2008 reissue of Killing Joke's fifth studio album, 'Night Time'. The single reached No. 51 in the UK Singles Chart. A promotional video was filmed for the song, marking the first time the band had made a video for a non-album single.\",\n",
    "    \"Batman: The Killing Joke is a 1988 DC Comics one-shot graphic novel featuring the characters Batman and the Joker written by Alan Moore and illustrated by Brian Bolland. 'The Killing Joke' provides an origin story for the supervillain the Joker, loosely adapted from the 1951 story arc 'The Man Behind the Red Hood!'. Taking place over two timelines, 'The Killing Joke' depicts the Joker attempting to drive Jim Gordon insane and Batman's desperate attempt to stop him.\",\n",
    "    \"Killing Joke is the debut studio album by English rock band Killing Joke. It was released in August 1980 by record label E.G.\",\n",
    "    \"Pandemonium is the ninth studio album by English rock band Killing Joke, released on 2 August 1994 by record label Butterfly. This album marked Killing Joke's return after a four-year-long hiatus, the longest the band has taken since it was initially founded. This album also featured the return of founding member Youth, who replaced Paul Raven on bass.\",\n",
    "    \"'Ha' or 'Ha': Killing Joke Live is the first commercially distributed live recording by English rock band Killing Joke. It was recorded at Larry's Hideaway in Toronto, Ontario, Canada on 9 and 10 August 1982, and released on 4 November by record label Virgin.\",\n",
    "]\n",
    "\n",
    "CONTEXT = \"\"\n",
    "for i, doc in enumerate(docs):\n",
    "    CONTEXT += f\"Document {i + 1}: {doc}\\n\"\n"
   ]
  },
  {
   "cell_type": "code",
   "execution_count": 3,
   "metadata": {},
   "outputs": [],
   "source": [
    "# preamble, task and question setup\n",
    "PREAMBLE = \\\n",
    "\"\"\"\n",
    "You are Coral, a brilliant, sophisticated, AI-assistant chatbot trained to assist human users by providing thorough responses. You are powered by Command, a large language model built by the company Cohere. Today's date is Thursday, April 25, 2024.\n",
    "\"\"\"\n",
    "TASK = \\\n",
    "\"\"\"\n",
    "Answer the question using the information in the context.\n",
    "\"\"\"\n",
    "QUESTION = \\\n",
    "\"\"\"\n",
    "Which band was formed first Killing Joke or Acceptance ?\n",
    "\"\"\"\n",
    "\n"
   ]
  },
  {
   "cell_type": "code",
   "execution_count": 18,
   "metadata": {},
   "outputs": [],
   "source": [
    "# combining context, task and question into 1 prompt\n",
    "PROMPT_TEMPLATE = \\\n",
    "\"\"\"\n",
    "{preamble}\n",
    "\n",
    "Task:\n",
    "{task}\n",
    "Question:\n",
    "{question}\n",
    "Answer:\n",
    "\"\"\"\n"
   ]
  },
  {
   "cell_type": "code",
   "execution_count": 38,
   "metadata": {},
   "outputs": [],
   "source": [
    "# chain poll eval prompt\n",
    "CP_PROMPT = \\\n",
    "\"\"\"\n",
    "You are an LLM Evaluator tasked with judging whether the provided Response is relevant to Document the provided Context to ensure that there is no hallucination and that the response adheres to the context provided.\n",
    "\n",
    "## Context\n",
    "{context}\n",
    "\n",
    "## Response\n",
    "{response}\n",
    "\n",
    "## Task\n",
    "Produce a judgement that compare the relevance of the context to the response. For each judgement:\n",
    "- Compare the Response to EACH of the document from the Context individually to evaluate if the claim made by the Response is fully supported by EACH document.\n",
    "- Summarize all the comparisons to provide your reasoning if the Response is hallucinated or not. When generating the reasoning, step-by-step and provide a very verbose, detailed reasoning to explain you judged the relevance.\n",
    "- Include your final judgement, either a 1 if the judegment is that the Response is relevant to the Context and therefore has not hallucinated, or 0 if not relevant.\n",
    "\"\"\"\n"
   ]
  },
  {
   "cell_type": "markdown",
   "metadata": {},
   "source": [
    "### Setting up Cohere API"
   ]
  },
  {
   "cell_type": "code",
   "execution_count": 39,
   "metadata": {},
   "outputs": [],
   "source": [
    "co = cohere.Client(\n",
    "    api_key=os.getenv(\"COHERE_API_KEY\"),\n",
    "    log_warning_experimental_features=False,\n",
    ")\n",
    "# combine prompt template sections\n",
    "generation_prompt = PROMPT_TEMPLATE.format(\n",
    "    preamble=PREAMBLE,\n",
    "    task=TASK,\n",
    "    question=QUESTION,\n",
    ")\n",
    "generation_params = {\n",
    "    \"model\": \"command-r-plus\",\n",
    "    \"message\": generation_prompt,\n",
    "    \"temperature\": 0.3,\n",
    "    \"documents\": [{\"text\": doc} for doc in docs]\n",
    "}\n",
    "response = co.chat(\n",
    "    **generation_params,\n",
    ").text"
   ]
  },
  {
   "cell_type": "code",
   "execution_count": 40,
   "metadata": {},
   "outputs": [
    {
     "data": {
      "text/plain": [
       "'Killing Joke was formed in October 1978, while Acceptance was formed in 1998. Therefore, Killing Joke was formed first.'"
      ]
     },
     "execution_count": 40,
     "metadata": {},
     "output_type": "execute_result"
    }
   ],
   "source": [
    "response\n"
   ]
  },
  {
   "cell_type": "markdown",
   "metadata": {},
   "source": [
    "### Running Chain Poll Eval"
   ]
  },
  {
   "cell_type": "code",
   "execution_count": 41,
   "metadata": {},
   "outputs": [],
   "source": [
    "# setup pydantic class for json output\n",
    "class JudgementRecord(BaseModel):\n",
    "    reasoning: str = Field(description=\"summarized reasoning for this judgement by individually evaluating the relevance of the Response against EACH documents in Context. Think step-by-step and provide verbose, detailed reasoning to explain you judged the relevance. \")\n",
    "    judgement: int = Field(description=\"1 if the reasoning indicates that the Response is relevant to and supported by the Context or else 0\")\n",
    "\n",
    "# setup chain pool prompt with json format guidance\n",
    "parser = JsonOutputParser(pydantic_object=JudgementRecord)\n",
    "cp_prompt = PromptTemplate(\n",
    "    template=CP_PROMPT + \"\\n{format_instructions}\",\n",
    "    input_variables=[\"context\", \"response\"],\n",
    "    partial_variables={\"format_instructions\": parser.get_format_instructions()},\n",
    ")\n",
    "# setup GPT 3.5 as judge\n",
    "api_key = \"\" # <api key>\n",
    "model = ChatOpenAI(api_key=api_key, model=\"gpt-3.5-turbo\")\n",
    "judgement_chain = cp_prompt | model | parser\n",
    "\n",
    "# generate 5 judgements\n",
    "judgements = []\n",
    "judgement_params = {\n",
    "    \"context\": CONTEXT,\n",
    "    \"response\": response,\n",
    "}\n",
    "for _ in range(5):\n",
    "    judgements.append(\n",
    "        judgement_chain.invoke(judgement_params)\n",
    "    )\n"
   ]
  },
  {
   "cell_type": "code",
   "execution_count": 42,
   "metadata": {},
   "outputs": [
    {
     "name": "stdout",
     "output_type": "stream",
     "text": [
      "{'judgement': 1,\n",
      " 'reasoning': 'The Response claims that Killing Joke was formed first in '\n",
      "              'October 1978, while Acceptance was formed in 1998. This claim '\n",
      "              'is supported by Document 4, which states that Killing Joke was '\n",
      "              'formed in October 1978 by Jaz Coleman, Paul Ferguson, Geordie '\n",
      "              'Walker, and Youth. On the other hand, Document 2 mentions that '\n",
      "              'Acceptance was formed in 1998, confirming that Killing Joke '\n",
      "              'indeed predated Acceptance. Therefore, the Response is fully '\n",
      "              'supported by the provided Context and there is no '\n",
      "              'hallucination.'}\n",
      "--------------------\n",
      "{'judgement': 0,\n",
      " 'reasoning': 'The Response claims that Killing Joke was formed first in '\n",
      "              'October 1978, while Acceptance was formed in 1998. This claim '\n",
      "              'is supported by Document 4, which states that Killing Joke was '\n",
      "              'formed in October 1978. However, there is no mention of '\n",
      "              'Acceptance in any of the provided documents. Therefore, the '\n",
      "              'claim made by the Response is only partially supported by the '\n",
      "              'Context. The Response does not hallucinate as it correctly '\n",
      "              'states the formation year of Killing Joke, but it lacks direct '\n",
      "              'support for the formation year of Acceptance.'}\n",
      "--------------------\n",
      "{'judgement': 0,\n",
      " 'reasoning': 'The Response claims that Killing Joke was formed before '\n",
      "              'Acceptance based on the formation years provided in the '\n",
      "              'Context. When comparing this claim to each document '\n",
      "              'individually, we find that Document 4 confirms that Killing '\n",
      "              'Joke was indeed formed in October 1978. However, Document 2 '\n",
      "              'states that Acceptance was formed in 1998, which contradicts '\n",
      "              \"the Response's claim. As a result, the Response's claim is not \"\n",
      "              'fully supported by the Context. Therefore, the Response is not '\n",
      "              'hallucinated and does not adhere to the context provided.'}\n",
      "--------------------\n",
      "{'judgement': 0,\n",
      " 'reasoning': 'The Response claims that Killing Joke was formed first in '\n",
      "              'October 1978, while Acceptance was formed in 1998. This claim '\n",
      "              'is fully supported by Document 4, which states that Killing '\n",
      "              'Joke was formed in October 1978. However, there is no mention '\n",
      "              'of Acceptance in the provided Context documents, so we cannot '\n",
      "              'confirm the formation date of Acceptance. As a result, the '\n",
      "              'claim made in the Response is partially supported as it only '\n",
      "              'aligns with the information in Document 4.'}\n",
      "--------------------\n",
      "{'judgement': 1,\n",
      " 'reasoning': 'The response claims that Killing Joke was formed before '\n",
      "              'Acceptance based on the information provided in the context. '\n",
      "              'When we evaluate this claim against the documents in the '\n",
      "              'context, we find that Document 4 states that Killing Joke was '\n",
      "              'formed in October 1978, while Document 2 mentions that '\n",
      "              'Acceptance was formed in 1998. Therefore, the response is fully '\n",
      "              'supported by the context as it correctly identifies the '\n",
      "              'formation dates of the two bands.'}\n",
      "--------------------\n"
     ]
    }
   ],
   "source": [
    "from pprint import pprint\n",
    "for item in judgements:\n",
    "    pprint(item)\n",
    "    print(\"-\" * 20)\n"
   ]
  },
  {
   "cell_type": "markdown",
   "metadata": {},
   "source": [
    "### Chain Poll Score"
   ]
  },
  {
   "cell_type": "code",
   "execution_count": 43,
   "metadata": {},
   "outputs": [],
   "source": [
    "# track yes judgements and total judgements\n",
    "TOTAL_RECORDS = 5\n",
    "yes_records = sum(list(item['judgement'] for item in judgements))\n",
    "# calcualate chain poll score\n",
    "chain_poll_score = yes_records / TOTAL_RECORDS\n"
   ]
  },
  {
   "cell_type": "code",
   "execution_count": 44,
   "metadata": {},
   "outputs": [
    {
     "name": "stdout",
     "output_type": "stream",
     "text": [
      "Chain Poll Score (%): 40.00%\n"
     ]
    }
   ],
   "source": [
    "print(f\"Chain Poll Score (%): {chain_poll_score:.2%}\")"
   ]
  },
  {
   "cell_type": "code",
   "execution_count": 13,
   "metadata": {},
   "outputs": [
    {
     "name": "stderr",
     "output_type": "stream",
     "text": [
      "/Users/neel/Library/Caches/pypoetry/virtualenvs/src-mZjtLG-j-py3.11/lib/python3.11/site-packages/tqdm/auto.py:21: TqdmWarning: IProgress not found. Please update jupyter and ipywidgets. See https://ipywidgets.readthedocs.io/en/stable/user_install.html\n",
      "  from .autonotebook import tqdm as notebook_tqdm\n",
      "Evaluating: 100%|██████████| 1/1 [00:03<00:00,  3.98s/it]\n"
     ]
    }
   ],
   "source": [
    "from datasets import Dataset\n",
    "from ragas.metrics import faithfulness\n",
    "from ragas import evaluate\n",
    "from langchain_openai import ChatOpenAI\n",
    "\n",
    "judge = ChatOpenAI(api_key=api_key, model=\"gpt-4o\")\n",
    "data_samples = {\n",
    "    \"question\": [QUESTION],\n",
    "    \"answer\": [response],\n",
    "    \"contexts\": [docs],\n",
    "}\n",
    "dataset = Dataset.from_dict(data_samples)\n",
    "score = evaluate(dataset, llm=judge, metrics=[faithfulness])[\"faithfulness\"]\n"
   ]
  },
  {
   "cell_type": "code",
   "execution_count": 14,
   "metadata": {},
   "outputs": [
    {
     "name": "stdout",
     "output_type": "stream",
     "text": [
      "Ragas Score (%): 100.00%\n"
     ]
    }
   ],
   "source": [
    "print(f\"Ragas Score (%): {score:.2%}\")"
   ]
  },
  {
   "cell_type": "code",
   "execution_count": null,
   "metadata": {},
   "outputs": [],
   "source": []
  }
 ],
 "metadata": {
  "kernelspec": {
   "display_name": "src-mZjtLG-j-py3.11",
   "language": "python",
   "name": "python3"
  },
  "language_info": {
   "codemirror_mode": {
    "name": "ipython",
    "version": 3
   },
   "file_extension": ".py",
   "mimetype": "text/x-python",
   "name": "python",
   "nbconvert_exporter": "python",
   "pygments_lexer": "ipython3",
   "version": "3.11.9"
  }
 },
 "nbformat": 4,
 "nbformat_minor": 2
}
