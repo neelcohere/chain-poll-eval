{
 "cells": [
  {
   "cell_type": "markdown",
   "metadata": {},
   "source": [
    "# Galileo - Chain Pool Eval"
   ]
  },
  {
   "cell_type": "markdown",
   "metadata": {},
   "source": [
    "### Imports"
   ]
  },
  {
   "cell_type": "code",
   "execution_count": 2,
   "metadata": {},
   "outputs": [
    {
     "name": "stderr",
     "output_type": "stream",
     "text": [
      "/Users/neel/Library/Caches/pypoetry/virtualenvs/src-mZjtLG-j-py3.11/lib/python3.11/site-packages/pydantic/_internal/_config.py:341: UserWarning: Valid config keys have changed in V2:\n",
      "* 'allow_population_by_field_name' has been renamed to 'populate_by_name'\n",
      "* 'smart_union' has been removed\n",
      "  warnings.warn(message, UserWarning)\n"
     ]
    },
    {
     "data": {
      "text/plain": [
       "True"
      ]
     },
     "execution_count": 2,
     "metadata": {},
     "output_type": "execute_result"
    }
   ],
   "source": [
    "import os\n",
    "import sys\n",
    "import json\n",
    "import cohere\n",
    "\n",
    "from langchain_core.output_parsers import JsonOutputParser\n",
    "from langchain_core.prompts import PromptTemplate\n",
    "from langchain_core.pydantic_v1 import BaseModel, Field\n",
    "from typing import List\n",
    "from langchain_openai import ChatOpenAI\n",
    "\n",
    "from dotenv import load_dotenv\n",
    "load_dotenv(dotenv_path=\"../.env\")"
   ]
  },
  {
   "cell_type": "markdown",
   "metadata": {},
   "source": [
    "### System Preamble and Prompt Setup"
   ]
  },
  {
   "cell_type": "code",
   "execution_count": 34,
   "metadata": {},
   "outputs": [],
   "source": [
    "docs = [\n",
    "    \"'Kings and Queens' is Killing Joke's third single from their fifth studio album, 'Night Time'. It was originally released by E.G. Records on 21 March 1985 as a 12' and 7' single in the UK, and a 7' single by Polydor in the Netherlands. It was produced by Chris Kimsey. The 12' single featured 'Kings and Queens (A Right Royal Mix)' as an A-side, and both 'The Madding Crowd (Remixed by Killing Joke)' and 'Kings and Queens' as B-sides. E.G.'s 7' single and Polydor's 7' single exempted 'Kings and Queens (A Right Royal Mix)' and instead featured 'Kings and Queens' as the A-side, and 'The Madding Crowd (Remixed by Killing Joke)' as the B-side. E.G. also released a remix of the song, 'Kings and Queens (Knaves Mix)', as an A-side and featured the same B-sides as the 12' single of 'Kings and Queens'\",\n",
    "    \"Acceptance is an American rock band from Seattle, Washington, formed in 1998. They released their first EP, 'Lost for Words', in 2000, followed by 'Black Lines to Battlefields' in 2003 (this EP was also re-released with live bonus tracks). Their debut album, 'Phantoms', was released in 2005.\",\n",
    "    \"Killing Joke is the eleventh studio album by English rock band Killing Joke, released on 28 July 2003 by record label Zuma Recordings.\",\n",
    "    \"Killing Joke are an English rock band formed in October 1978 in Notting Hill, London, England. The original line-up included Jaz Coleman (vocals, keyboards), Paul Ferguson (drums), Geordie Walker (guitars) and Youth (bass).\",\n",
    "    \"Paul Ferguson (born Matthew Paul Ferguson, 31 March 1958) is a rock drummer, best known for his work in the post-punk/industrial group Killing Joke and cult English punk band Pink Parts. Following a stint as the drummer with the London-based Matt Stagger Band in 1978, Ferguson became a founding member of Killing Joke and served as their drummer from 1979 to 1987. He was known as 'Big Paul Ferguson' during this period.\",\n",
    "    \"'A New Day' is a non-album single by Killing Joke. It was released by E.G. Records in July 1984 as a 12' and 7' single. The 12' single featured a dub mix of 'A New Day' as the A-side and 'A New Day' as the B-side. The 7' single featured a shorter version of 'A New Day' as the A-side and 'Dance Day' as the B-side. A completely different version of 'A New Day', which was not a mix, later appeared on the 2008 reissue of Killing Joke's fifth studio album, 'Night Time'. The single reached No. 51 in the UK Singles Chart. A promotional video was filmed for the song, marking the first time the band had made a video for a non-album single.\",\n",
    "    \"Batman: The Killing Joke is a 1988 DC Comics one-shot graphic novel featuring the characters Batman and the Joker written by Alan Moore and illustrated by Brian Bolland. 'The Killing Joke' provides an origin story for the supervillain the Joker, loosely adapted from the 1951 story arc 'The Man Behind the Red Hood!'. Taking place over two timelines, 'The Killing Joke' depicts the Joker attempting to drive Jim Gordon insane and Batman's desperate attempt to stop him.\",\n",
    "    \"Killing Joke is the debut studio album by English rock band Killing Joke. It was released in August 1980 by record label E.G.\",\n",
    "    \"Pandemonium is the ninth studio album by English rock band Killing Joke, released on 2 August 1994 by record label Butterfly. This album marked Killing Joke's return after a four-year-long hiatus, the longest the band has taken since it was initially founded. This album also featured the return of founding member Youth, who replaced Paul Raven on bass.\",\n",
    "    \"'Ha' or 'Ha': Killing Joke Live is the first commercially distributed live recording by English rock band Killing Joke. It was recorded at Larry's Hideaway in Toronto, Ontario, Canada on 9 and 10 August 1982, and released on 4 November by record label Virgin.\",\n",
    "]\n",
    "\n",
    "CONTEXT = \"\"\n",
    "for i, doc in enumerate(docs):\n",
    "    CONTEXT += f\"Document {i + 1}: {doc}\\n\"\n"
   ]
  },
  {
   "cell_type": "code",
   "execution_count": 35,
   "metadata": {},
   "outputs": [],
   "source": [
    "# preamble, task and question setup\n",
    "PREAMBLE = \\\n",
    "\"\"\"\n",
    "You are Coral, a brilliant, sophisticated, AI-assistant chatbot trained to assist human users by providing thorough responses. You are powered by Command, a large language model built by the company Cohere. Today's date is Thursday, April 25, 2024.\n",
    "\"\"\"\n",
    "TASK = \\\n",
    "\"\"\"\n",
    "Answer the question using the information in the context.\n",
    "\"\"\"\n",
    "QUESTION = \\\n",
    "\"\"\"\n",
    "Which band was formed first Killing Joke or Acceptance ?\n",
    "\"\"\"\n",
    "\n"
   ]
  },
  {
   "cell_type": "code",
   "execution_count": 36,
   "metadata": {},
   "outputs": [],
   "source": [
    "# combining context, task and question into 1 prompt\n",
    "PROMPT_TEMPLATE = \\\n",
    "\"\"\"\n",
    "{preamble}\n",
    "Context:\n",
    "{context}\n",
    "Task:\n",
    "{task}\n",
    "Question:\n",
    "{question}\n",
    "Answer:\n",
    "\"\"\"\n"
   ]
  },
  {
   "cell_type": "code",
   "execution_count": 37,
   "metadata": {},
   "outputs": [],
   "source": [
    "# chain poll eval prompt\n",
    "CP_PROMPT = \\\n",
    "\"\"\"\n",
    "You are an LLM Hallucination Evaluator tasked with judging whether the provided Response is relevant to Document the provided Context to ensure that there is no hallucination and that the response adheres to the context provided.\n",
    "\n",
    "## Context\n",
    "{context}\n",
    "\n",
    "## Response\n",
    "{response}\n",
    "\n",
    "## Task\n",
    "Produce a judgement that compare the relevance of the context to the response. For each judgement:\n",
    "1. Think step by step and check if the claims made by the Response are fully supported by the documents in the Context. \n",
    "2. First analyze each document with detailed reasoning for EACH of the documents in context including how it does or does not support the response. Respond with this in the \"reasonings\" key in the JSON. Make sure ALL documents are included.\n",
    "3. Then perform an overall analysis summarizing the results across all documents. Respond with this in the \"summary\" key in the JSON\n",
    "4. Based on the results and analysis, also include a Yes (if supported) or No (if not supported) if the reponse is fully supported by looking at all the documents. Include this as the \"judgement\" key in the JSON. \n",
    "\n",
    "Repeat the above steps 5 times (5 records) so that we get diverse reasoning and we can average the results across 5 runs. \n",
    "\"\"\"\n"
   ]
  },
  {
   "cell_type": "markdown",
   "metadata": {},
   "source": [
    "### Setting up Cohere API"
   ]
  },
  {
   "cell_type": "code",
   "execution_count": 39,
   "metadata": {},
   "outputs": [],
   "source": [
    "co = cohere.Client(\n",
    "    api_key=os.getenv(\"COHERE_API_KEY\"),\n",
    "    log_warning_experimental_features=False,\n",
    ")\n",
    "# combine prompt template sections\n",
    "generation_prompt = PROMPT_TEMPLATE.format(\n",
    "    preamble=PREAMBLE,\n",
    "    context=CONTEXT,\n",
    "    task=TASK,\n",
    "    question=QUESTION,\n",
    ")\n",
    "generation_params = {\n",
    "    \"model\": \"command-r-plus\",\n",
    "    \"message\": generation_prompt,\n",
    "    \"temperature\": 0.1,\n",
    "    \"max_tokens\": 512\n",
    "}\n",
    "response = co.chat(\n",
    "    **generation_params,\n",
    ").text"
   ]
  },
  {
   "cell_type": "code",
   "execution_count": 40,
   "metadata": {},
   "outputs": [
    {
     "data": {
      "text/plain": [
       "'Killing Joke was formed first. The English rock band was founded in October 1978, whereas Acceptance was formed in 1998.'"
      ]
     },
     "execution_count": 40,
     "metadata": {},
     "output_type": "execute_result"
    }
   ],
   "source": [
    "response\n"
   ]
  },
  {
   "cell_type": "markdown",
   "metadata": {},
   "source": [
    "### Running Chain Poll Eval"
   ]
  },
  {
   "cell_type": "code",
   "execution_count": 32,
   "metadata": {},
   "outputs": [],
   "source": [
    "# setup pydantic classes for json output\n",
    "class Reasoning(BaseModel):\n",
    "    document: int = Field(description=\"document number from the provided context\")\n",
    "    reasoning: str = Field(description=\"detailed reasoning step by step for this document to evaluate if it supports the Response or not\")\n",
    "\n",
    "class Record(BaseModel):\n",
    "    run: int = Field(description=\"the run number of this record (start from 1 and increment for each additional record)\")\n",
    "    reasonings: List[Reasoning] = Field(description=\"summarized reasoning for this judgement by individually evaluating the relevance of the Response against EACH documents in Context. Think step-by-step and provide verbose, detailed reasoning to explain you judged the relevance.\")\n",
    "    summary: str = Field(description=\"final reasoning explanation that summarizes all reasonings for all documents\")\n",
    "    judgement: int = Field(description=\"1 if the reasoning indicates that the Response is relevant to and supported by the Context or else 0\")\n",
    "\n",
    "class Records(BaseModel):\n",
    "    records: List[Record] = Field(description=\"A list of Record JSONs that captures diverse reasonings and judgements for a given Response\")\n",
    "\n",
    "# setup chain pool prompt with json format guidance\n",
    "parser = JsonOutputParser(pydantic_object=Records)\n",
    "cp_prompt = PromptTemplate(\n",
    "    template=CP_PROMPT + \"\\n## Format instructions\\n{format_instructions}\",\n",
    "    input_variables=[\"context\", \"response\"],\n",
    "    partial_variables={\"format_instructions\": parser.get_format_instructions()},\n",
    ")\n",
    "# setup GPT 3.5 as judge\n",
    "api_key = \"\" # <api key>\n",
    "model = ChatOpenAI(api_key=api_key, model=\"gpt-4-turbo\")\n",
    "judgement_chain = cp_prompt | model | parser\n",
    "\n",
    "# generate 5 judgements\n",
    "judgements = []\n",
    "judgement_params = {\n",
    "    \"context\": CONTEXT,\n",
    "    \"response\": response,\n",
    "}\n",
    "\n",
    "# -- UNCOMMENT FOR INDIVIDUALLY GENERATING EACH N RECORD SEQUENTIALLY --\n",
    "# for i in range(5):\n",
    "#     judgement = judgement_chain.invoke(judgement_params)\n",
    "#     judgement[\"run\"] = i + 1\n",
    "#     judgements.append(\n",
    "#         judgement\n",
    "#     )\n",
    "\n",
    "# -- UNCOMMENT FOR GENERATING N RECORDS AT ONCE --\n",
    "judgements: list = judgement_chain.invoke(judgement_params)\n"
   ]
  },
  {
   "cell_type": "code",
   "execution_count": 33,
   "metadata": {},
   "outputs": [
    {
     "name": "stdout",
     "output_type": "stream",
     "text": [
      "{'judgement': 1,\n",
      " 'reasonings': [{'document': 1,\n",
      "                 'reasoning': 'This document discusses the details of a single '\n",
      "                              'by Killing Joke but does not mention the '\n",
      "                              'formation date of the band.'},\n",
      "                {'document': 2,\n",
      "                 'reasoning': 'This document provides the formation date of '\n",
      "                              'Acceptance in 1998, which supports half of the '\n",
      "                              'response.'},\n",
      "                {'document': 3,\n",
      "                 'reasoning': 'This document mentions a release by Killing '\n",
      "                              'Joke in 2003 but does not discuss the formation '\n",
      "                              'date of the band.'},\n",
      "                {'document': 4,\n",
      "                 'reasoning': 'This document supports the response by '\n",
      "                              'specifying that Killing Joke was formed in '\n",
      "                              'October 1978.'},\n",
      "                {'document': 5,\n",
      "                 'reasoning': \"This document discusses Paul Ferguson's \"\n",
      "                              'involvement with Killing Joke but does not '\n",
      "                              'mention the formation date of the band.'},\n",
      "                {'document': 6,\n",
      "                 'reasoning': 'This document discusses a single by Killing '\n",
      "                              'Joke but does not mention the formation date of '\n",
      "                              'the band.'},\n",
      "                {'document': 7,\n",
      "                 'reasoning': 'This document is about a graphic novel and has '\n",
      "                              'no relevance to the formation dates of the '\n",
      "                              'bands mentioned in the response.'},\n",
      "                {'document': 8,\n",
      "                 'reasoning': \"This document mentions Killing Joke's debut \"\n",
      "                              'album but does not provide information about '\n",
      "                              \"the band's formation date.\"},\n",
      "                {'document': 9,\n",
      "                 'reasoning': 'This document discusses a comeback album by '\n",
      "                              'Killing Joke but does not mention the formation '\n",
      "                              'date of the band.'},\n",
      "                {'document': 10,\n",
      "                 'reasoning': 'This document discusses a live recording by '\n",
      "                              'Killing Joke but does not mention the formation '\n",
      "                              'date of the band.'}],\n",
      " 'run': 1,\n",
      " 'summary': 'The response is partially supported by the context. Document 2 '\n",
      "            \"confirms Acceptance's formation date of 1998, and Document 4 \"\n",
      "            \"confirms Killing Joke's formation date of 1978. However, the \"\n",
      "            'other documents do not contribute to verifying the formation '\n",
      "            'dates of the bands.'}\n",
      "--------------------\n",
      "{'judgement': 1,\n",
      " 'reasonings': [{'document': 1,\n",
      "                 'reasoning': 'This document focuses on the details of a '\n",
      "                              'single by Killing Joke and does not provide '\n",
      "                              'information about when the band was formed.'},\n",
      "                {'document': 2,\n",
      "                 'reasoning': 'This document provides the formation date of '\n",
      "                              'Acceptance in 1998, verifying part of the '\n",
      "                              'response.'},\n",
      "                {'document': 3,\n",
      "                 'reasoning': 'This document details an album release in 2003, '\n",
      "                              'without mentioning when Killing Joke was '\n",
      "                              'formed.'},\n",
      "                {'document': 4,\n",
      "                 'reasoning': 'This document confirms that Killing Joke was '\n",
      "                              'formed in October 1978, supporting the other '\n",
      "                              'part of the response.'},\n",
      "                {'document': 5,\n",
      "                 'reasoning': 'This document provides background on Paul '\n",
      "                              'Ferguson of Killing Joke but does not indicate '\n",
      "                              \"the band's formation date.\"},\n",
      "                {'document': 6,\n",
      "                 'reasoning': 'This document discusses the release details of '\n",
      "                              'a single, not the formation of Killing Joke.'},\n",
      "                {'document': 7,\n",
      "                 'reasoning': 'This document about a graphic novel is '\n",
      "                              'unrelated to the formation dates of Killing '\n",
      "                              'Joke or Acceptance.'},\n",
      "                {'document': 8,\n",
      "                 'reasoning': 'This document mentions the debut album of '\n",
      "                              'Killing Joke but not its formation date.'},\n",
      "                {'document': 9,\n",
      "                 'reasoning': 'This document discusses an album release and '\n",
      "                              \"the band's hiatus but not when Killing Joke was \"\n",
      "                              'formed.'},\n",
      "                {'document': 10,\n",
      "                 'reasoning': 'This document is about a live recording and '\n",
      "                              'does not mention the formation date of Killing '\n",
      "                              'Joke.'}],\n",
      " 'run': 2,\n",
      " 'summary': 'The response stating the formation dates of Killing Joke and '\n",
      "            'Acceptance is supported by Document 2 and Document 4. The other '\n",
      "            'documents do not provide relevant information regarding the '\n",
      "            'formation dates.'}\n",
      "--------------------\n",
      "{'judgement': 1,\n",
      " 'reasonings': [{'document': 1,\n",
      "                 'reasoning': 'This document, detailing a music release, does '\n",
      "                              'not mention the formation dates of Killing Joke '\n",
      "                              'or any bands.'},\n",
      "                {'document': 2,\n",
      "                 'reasoning': 'This document specifies that Acceptance was '\n",
      "                              'formed in 1998, confirming part of the '\n",
      "                              'response.'},\n",
      "                {'document': 3,\n",
      "                 'reasoning': 'This document discusses an album release by '\n",
      "                              'Killing Joke in 2003 but does not discuss the '\n",
      "                              \"band's formation date.\"},\n",
      "                {'document': 4,\n",
      "                 'reasoning': 'This document confirms the formation of Killing '\n",
      "                              'Joke in October 1978, supporting the response.'},\n",
      "                {'document': 5,\n",
      "                 'reasoning': 'This document provides biographical information '\n",
      "                              'about a band member but does not discuss the '\n",
      "                              'formation date of Killing Joke.'},\n",
      "                {'document': 6,\n",
      "                 'reasoning': 'This document focuses on a music release and '\n",
      "                              'does not mention the formation date of Killing '\n",
      "                              'Joke.'},\n",
      "                {'document': 7,\n",
      "                 'reasoning': 'This document is about a graphic novel and is '\n",
      "                              'irrelevant to the formation dates of the '\n",
      "                              'bands.'},\n",
      "                {'document': 8,\n",
      "                 'reasoning': 'This document does not discuss the formation '\n",
      "                              'date of Killing Joke, focusing instead on an '\n",
      "                              'album release.'},\n",
      "                {'document': 9,\n",
      "                 'reasoning': 'This document talks about a later phase in the '\n",
      "                              \"band's history, not the formation date of \"\n",
      "                              'Killing Joke.'},\n",
      "                {'document': 10,\n",
      "                 'reasoning': 'This document covers a live performance '\n",
      "                              'recording, not the formation date of Killing '\n",
      "                              'Joke.'}],\n",
      " 'run': 3,\n",
      " 'summary': 'The response is supported by Document 2, which confirms '\n",
      "            \"Acceptance's formation in 1998, and Document 4, which confirms \"\n",
      "            \"Killing Joke's formation in 1978. Other documents do not provide \"\n",
      "            'information on the formation dates.'}\n",
      "--------------------\n",
      "{'judgement': 1,\n",
      " 'reasonings': [{'document': 1,\n",
      "                 'reasoning': 'This document discusses a specific single by '\n",
      "                              'Killing Joke and does not provide information '\n",
      "                              'about the formation of the band.'},\n",
      "                {'document': 2,\n",
      "                 'reasoning': 'This document confirms the formation of '\n",
      "                              'Acceptance in 1998, which supports part of the '\n",
      "                              'response.'},\n",
      "                {'document': 3,\n",
      "                 'reasoning': 'This document details a release by Killing Joke '\n",
      "                              \"but does not mention the band's formation \"\n",
      "                              'date.'},\n",
      "                {'document': 4,\n",
      "                 'reasoning': 'This document confirms that Killing Joke was '\n",
      "                              'formed in October 1978, supporting the '\n",
      "                              'response.'},\n",
      "                {'document': 5,\n",
      "                 'reasoning': \"This document focuses on a band member's \"\n",
      "                              'history rather than the formation date of '\n",
      "                              'Killing Joke.'},\n",
      "                {'document': 6,\n",
      "                 'reasoning': 'This document discusses a single by Killing '\n",
      "                              \"Joke without mentioning the band's formation \"\n",
      "                              'date.'},\n",
      "                {'document': 7,\n",
      "                 'reasoning': 'This document, being about a graphic novel, is '\n",
      "                              'unrelated to the formation dates of the bands '\n",
      "                              'discussed in the response.'},\n",
      "                {'document': 8,\n",
      "                 'reasoning': 'This document discusses an album but does not '\n",
      "                              'provide information on when Killing Joke was '\n",
      "                              'formed.'},\n",
      "                {'document': 9,\n",
      "                 'reasoning': 'This document covers a period much later in the '\n",
      "                              \"band's history, not the formation date of \"\n",
      "                              'Killing Joke.'},\n",
      "                {'document': 10,\n",
      "                 'reasoning': 'This document talks about a live album and does '\n",
      "                              'not mention the formation date of Killing '\n",
      "                              'Joke.'}],\n",
      " 'run': 4,\n",
      " 'summary': 'The response is supported by Document 2, which verifies '\n",
      "            \"Acceptance's formation in 1998, and Document 4, which confirms \"\n",
      "            \"Killing Joke's formation in 1978. The other documents do not \"\n",
      "            'address the formation dates.'}\n",
      "--------------------\n",
      "{'judgement': 1,\n",
      " 'reasonings': [{'document': 1,\n",
      "                 'reasoning': 'This document details a music release by '\n",
      "                              \"Killing Joke but does not mention the band's \"\n",
      "                              'formation date.'},\n",
      "                {'document': 2,\n",
      "                 'reasoning': 'This document confirms the formation of '\n",
      "                              'Acceptance in 1998, supporting part of the '\n",
      "                              'response.'},\n",
      "                {'document': 3,\n",
      "                 'reasoning': 'This document discusses a 2003 album by Killing '\n",
      "                              \"Joke, not the band's formation date.\"},\n",
      "                {'document': 4,\n",
      "                 'reasoning': \"This document confirms Killing Joke's formation \"\n",
      "                              'in October 1978, fully supporting the '\n",
      "                              'response.'},\n",
      "                {'document': 5,\n",
      "                 'reasoning': 'This document provides details on a member of '\n",
      "                              \"Killing Joke but does not mention the band's \"\n",
      "                              'formation date.'},\n",
      "                {'document': 6,\n",
      "                 'reasoning': 'This document focuses on the release details of '\n",
      "                              'a single and does not cover the formation of '\n",
      "                              'Killing Joke.'},\n",
      "                {'document': 7,\n",
      "                 'reasoning': 'This document about a graphic novel does not '\n",
      "                              'pertain to the formation dates of Killing Joke '\n",
      "                              'or Acceptance.'},\n",
      "                {'document': 8,\n",
      "                 'reasoning': 'This document mentions an album by Killing Joke '\n",
      "                              \"but not the band's formation date.\"},\n",
      "                {'document': 9,\n",
      "                 'reasoning': 'This document discusses a later album by '\n",
      "                              'Killing Joke and does not provide information '\n",
      "                              \"about the band's formation.\"},\n",
      "                {'document': 10,\n",
      "                 'reasoning': 'This document discusses a live recording by '\n",
      "                              \"Killing Joke but does not mention the band's \"\n",
      "                              'formation date.'}],\n",
      " 'run': 5,\n",
      " 'summary': 'The formation dates provided in the response are accurately '\n",
      "            \"supported by Document 2 (Acceptance's formation date) and \"\n",
      "            \"Document 4 (Killing Joke's formation date). The other documents \"\n",
      "            'do not contribute to verifying these dates.'}\n",
      "--------------------\n"
     ]
    }
   ],
   "source": [
    "from pprint import pprint\n",
    "for item in judgements[\"records\"]:\n",
    "    pprint(item)\n",
    "    print(\"-\" * 20)\n"
   ]
  },
  {
   "cell_type": "markdown",
   "metadata": {},
   "source": [
    "### Chain Poll Score"
   ]
  },
  {
   "cell_type": "code",
   "execution_count": 30,
   "metadata": {},
   "outputs": [],
   "source": [
    "# track yes judgements and total judgements\n",
    "TOTAL_RECORDS = 5\n",
    "yes_records = sum(list(item['judgement'] for item in judgements[\"records\"]))\n",
    "# calcualate chain poll score\n",
    "chain_poll_score = yes_records / TOTAL_RECORDS\n"
   ]
  },
  {
   "cell_type": "code",
   "execution_count": 31,
   "metadata": {},
   "outputs": [
    {
     "name": "stdout",
     "output_type": "stream",
     "text": [
      "Chain Poll Score (%): 40.00%\n"
     ]
    }
   ],
   "source": [
    "print(f\"Chain Poll Score (%): {chain_poll_score:.2%}\")"
   ]
  },
  {
   "cell_type": "markdown",
   "metadata": {},
   "source": [
    "### Ragas Faithfullness Score"
   ]
  },
  {
   "cell_type": "code",
   "execution_count": 15,
   "metadata": {},
   "outputs": [
    {
     "name": "stderr",
     "output_type": "stream",
     "text": [
      "/Users/neel/Library/Caches/pypoetry/virtualenvs/src-mZjtLG-j-py3.11/lib/python3.11/site-packages/tqdm/auto.py:21: TqdmWarning: IProgress not found. Please update jupyter and ipywidgets. See https://ipywidgets.readthedocs.io/en/stable/user_install.html\n",
      "  from .autonotebook import tqdm as notebook_tqdm\n",
      "Evaluating: 100%|██████████| 1/1 [00:03<00:00,  3.65s/it]\n"
     ]
    }
   ],
   "source": [
    "from datasets import Dataset\n",
    "from ragas.metrics import faithfulness\n",
    "from ragas import evaluate\n",
    "from langchain_openai import ChatOpenAI\n",
    "\n",
    "judge = ChatOpenAI(api_key=api_key, model=\"gpt-4o\")\n",
    "data_samples = {\n",
    "    \"question\": [QUESTION],\n",
    "    \"answer\": [response],\n",
    "    \"contexts\": [docs],\n",
    "}\n",
    "dataset = Dataset.from_dict(data_samples)\n",
    "score = evaluate(dataset, llm=judge, metrics=[faithfulness])[\"faithfulness\"]\n"
   ]
  },
  {
   "cell_type": "code",
   "execution_count": 67,
   "metadata": {},
   "outputs": [
    {
     "name": "stdout",
     "output_type": "stream",
     "text": [
      "Ragas Score (%): 100.00%\n"
     ]
    }
   ],
   "source": [
    "print(f\"Ragas Score (%): {score:.2%}\")"
   ]
  },
  {
   "cell_type": "code",
   "execution_count": null,
   "metadata": {},
   "outputs": [],
   "source": []
  }
 ],
 "metadata": {
  "kernelspec": {
   "display_name": "src-mZjtLG-j-py3.11",
   "language": "python",
   "name": "python3"
  },
  "language_info": {
   "codemirror_mode": {
    "name": "ipython",
    "version": 3
   },
   "file_extension": ".py",
   "mimetype": "text/x-python",
   "name": "python",
   "nbconvert_exporter": "python",
   "pygments_lexer": "ipython3",
   "version": "3.11.9"
  }
 },
 "nbformat": 4,
 "nbformat_minor": 2
}
